{
 "cells": [
  {
   "cell_type": "markdown",
   "id": "d4940034-4e6d-41bc-ad75-73960df73480",
   "metadata": {},
   "source": [
    "Exceptions:\n",
    "\n",
    "Occur during program execution.\n",
    "Result from various runtime errors such as division by zero, accessing an index out of range, or trying to open a non-existent file.\n",
    "Can be handled using try and except blocks to gracefully handle errors and continue program execution.\n",
    "If not handled, can cause the program to terminate abruptly.\n",
    "\n",
    "\n",
    "Syntax Errors:\n",
    "\n",
    "Occur during program compilation.\n",
    "Result from incorrect Python syntax, such as missing colons, unmatched parentheses, or misspelled keywords.\n",
    "Prevent the program from running at all, as they indicate fundamental issues with the code structure.\n",
    "Need to be fixed before the program can be executed."
   ]
  },
  {
   "cell_type": "code",
   "execution_count": null,
   "id": "cb6096a6-ef6f-4395-a372-8b9ca2300eb1",
   "metadata": {},
   "outputs": [],
   "source": []
  },
  {
   "cell_type": "markdown",
   "id": "dceb8cb2-e1df-4d44-b8a2-398a4c7e84a8",
   "metadata": {},
   "source": [
    "When an exception is not handled in a Python program, it typically leads to the program terminating abruptly. This means that the execution stops, and an error message is displayed, indicating the type of exception that occurred along with the traceback, which provides information about where the exception occurred in the code.\n",
    "\n",
    "Here's an example to illustrate what happens when an exception is not handled:"
   ]
  },
  {
   "cell_type": "code",
   "execution_count": 1,
   "id": "c8f2e52e-f880-43a2-ab5d-73904ee2fd16",
   "metadata": {},
   "outputs": [
    {
     "ename": "ZeroDivisionError",
     "evalue": "division by zero",
     "output_type": "error",
     "traceback": [
      "\u001b[0;31m---------------------------------------------------------------------------\u001b[0m",
      "\u001b[0;31mZeroDivisionError\u001b[0m                         Traceback (most recent call last)",
      "Cell \u001b[0;32mIn[1], line 6\u001b[0m\n\u001b[1;32m      3\u001b[0m     \u001b[38;5;28;01mreturn\u001b[39;00m result\n\u001b[1;32m      5\u001b[0m \u001b[38;5;66;03m# Attempting to divide by zero\u001b[39;00m\n\u001b[0;32m----> 6\u001b[0m result \u001b[38;5;241m=\u001b[39m \u001b[43mdivide\u001b[49m\u001b[43m(\u001b[49m\u001b[38;5;241;43m10\u001b[39;49m\u001b[43m,\u001b[49m\u001b[43m \u001b[49m\u001b[38;5;241;43m0\u001b[39;49m\u001b[43m)\u001b[49m\n\u001b[1;32m      7\u001b[0m \u001b[38;5;28mprint\u001b[39m(result)\n",
      "Cell \u001b[0;32mIn[1], line 2\u001b[0m, in \u001b[0;36mdivide\u001b[0;34m(x, y)\u001b[0m\n\u001b[1;32m      1\u001b[0m \u001b[38;5;28;01mdef\u001b[39;00m \u001b[38;5;21mdivide\u001b[39m(x, y):\n\u001b[0;32m----> 2\u001b[0m     result \u001b[38;5;241m=\u001b[39m \u001b[43mx\u001b[49m\u001b[43m \u001b[49m\u001b[38;5;241;43m/\u001b[39;49m\u001b[43m \u001b[49m\u001b[43my\u001b[49m\n\u001b[1;32m      3\u001b[0m     \u001b[38;5;28;01mreturn\u001b[39;00m result\n",
      "\u001b[0;31mZeroDivisionError\u001b[0m: division by zero"
     ]
    }
   ],
   "source": [
    "def divide(x, y):\n",
    "    result = x / y\n",
    "    return result\n",
    "\n",
    "# Attempting to divide by zero\n",
    "result = divide(10, 0)\n",
    "print(result)\n"
   ]
  },
  {
   "cell_type": "markdown",
   "id": "ef51b744-1279-4623-a956-d716e2f895d3",
   "metadata": {},
   "source": [
    "In this example, the divide function attempts to perform a division operation between two numbers x and y. However, if y is zero, it will raise a ZeroDivisionError exception since division by zero is not allowed in Python.\n",
    "\n",
    "If this exception is not handled in the code, running the program will result in an error message like this:"
   ]
  },
  {
   "cell_type": "code",
   "execution_count": 2,
   "id": "9257944c-581e-42c0-80c0-0850522f4395",
   "metadata": {},
   "outputs": [
    {
     "ename": "SyntaxError",
     "evalue": "invalid syntax. Perhaps you forgot a comma? (3976909132.py, line 1)",
     "output_type": "error",
     "traceback": [
      "\u001b[0;36m  Cell \u001b[0;32mIn[2], line 1\u001b[0;36m\u001b[0m\n\u001b[0;31m    Traceback (most recent call last):\u001b[0m\n\u001b[0m               ^\u001b[0m\n\u001b[0;31mSyntaxError\u001b[0m\u001b[0;31m:\u001b[0m invalid syntax. Perhaps you forgot a comma?\n"
     ]
    }
   ],
   "source": [
    "Traceback (most recent call last):\n",
    "  File \"example.py\", line 6, in <module>\n",
    "    result = divide(10, 0)\n",
    "  File \"example.py\", line 2, in divide\n",
    "    result = x / y\n",
    "ZeroDivisionError: division by zero\n"
   ]
  },
  {
   "cell_type": "markdown",
   "id": "59a928da-6d6d-4ad2-8039-cfde6f3a5712",
   "metadata": {},
   "source": [
    "This traceback indicates that the ZeroDivisionError occurred in the divide function at line 2, where the division operation is performed. Since this exception is not handled anywhere in the program, the program execution halts, and the error message is displayed.\n",
    "\n",
    "To prevent the program from terminating abruptly due to unhandled exceptions, you can use try and except blocks to catch and handle specific exceptions gracefully. For example:"
   ]
  },
  {
   "cell_type": "code",
   "execution_count": 3,
   "id": "27aaaba4-8bff-45bb-8569-9b382f363ca0",
   "metadata": {},
   "outputs": [
    {
     "name": "stdout",
     "output_type": "stream",
     "text": [
      "Error: Division by zero is not allowed.\n",
      "None\n"
     ]
    }
   ],
   "source": [
    "def divide(x, y):\n",
    "    try:\n",
    "        result = x / y\n",
    "        return result\n",
    "    except ZeroDivisionError:\n",
    "        print(\"Error: Division by zero is not allowed.\")\n",
    "\n",
    "result = divide(10, 0)\n",
    "print(result)\n"
   ]
  },
  {
   "cell_type": "markdown",
   "id": "09d5e71b-5ad5-4059-a056-415b2c3a0d93",
   "metadata": {},
   "source": [
    "In this modified version, the ZeroDivisionError exception is caught by the except block, allowing the program to continue executing after displaying an error message."
   ]
  },
  {
   "cell_type": "code",
   "execution_count": null,
   "id": "85b70780-64ef-424f-bf3c-230284c6eca7",
   "metadata": {},
   "outputs": [],
   "source": []
  },
  {
   "cell_type": "markdown",
   "id": "4974d086-af40-4960-bccb-99ecef050f11",
   "metadata": {},
   "source": [
    "try: This statement is used to enclose the block of code where an exception might occur. If an exception occurs within this block, it is raised, and the program jumps to the except block.\n",
    "\n",
    "except: This statement is used to catch and handle exceptions. It specifies the type of exception that you want to catch and provides code to handle the exception.\n",
    "\n",
    "finally: This statement is used to execute code whether an exception occurs or not. It's often used for cleanup operations such as closing files or releasing resources.\n",
    "\n",
    "else: This statement is executed if the try block doesn't raise any exceptions. It's typically used to perform actions that should only occur if no exceptions were raised."
   ]
  },
  {
   "cell_type": "code",
   "execution_count": 4,
   "id": "3a24247d-309b-4492-acd8-b6a9a24980b9",
   "metadata": {},
   "outputs": [
    {
     "name": "stdout",
     "output_type": "stream",
     "text": [
      "Error: Division by zero is not allowed.\n",
      "Cleaning up...\n",
      "None\n",
      "Division successful!\n",
      "Cleaning up...\n",
      "5.0\n"
     ]
    }
   ],
   "source": [
    "def divide(x, y):\n",
    "    try:\n",
    "        result = x / y\n",
    "    except ZeroDivisionError:\n",
    "        print(\"Error: Division by zero is not allowed.\")\n",
    "    else:\n",
    "        print(\"Division successful!\")\n",
    "        return result\n",
    "    finally:\n",
    "        print(\"Cleaning up...\")\n",
    "\n",
    "# Example 1: Division by zero\n",
    "result1 = divide(10, 0)\n",
    "print(result1)  # No result is returned since an exception occurred\n",
    "\n",
    "# Example 2: Valid division\n",
    "result2 = divide(10, 2)\n",
    "print(result2)  # Result is printed since no exception occurred\n"
   ]
  },
  {
   "cell_type": "markdown",
   "id": "50b1fc3e-768e-4dcb-90fb-757f86f2c6ca",
   "metadata": {},
   "source": [
    "The try block encloses the division operation, which might raise a ZeroDivisionError.\n",
    "The except block catches this specific exception and prints an error message.\n",
    "The else block is executed only if no exceptions occur, indicating that the division was successful.\n",
    "The finally block is always executed, regardless of whether an exception occurred or not, allowing for cleanup operations."
   ]
  },
  {
   "cell_type": "code",
   "execution_count": null,
   "id": "f6574d8a-ab40-4542-ba74-a08bbe5399ac",
   "metadata": {},
   "outputs": [],
   "source": []
  },
  {
   "cell_type": "code",
   "execution_count": 5,
   "id": "40b9361c-4370-4e18-9636-8b2dd70c7b21",
   "metadata": {},
   "outputs": [
    {
     "name": "stdout",
     "output_type": "stream",
     "text": [
      "Error: Division by zero is not allowed.\n",
      "Cleaning up...\n",
      "None\n",
      "Division successful!\n",
      "Cleaning up...\n",
      "5.0\n",
      "Age is valid\n",
      "Age cannot be negative\n"
     ]
    }
   ],
   "source": [
    "def divide(x, y):\n",
    "    try:\n",
    "        result = x / y\n",
    "    except ZeroDivisionError:\n",
    "        print(\"Error: Division by zero is not allowed.\")\n",
    "        return None\n",
    "    else:\n",
    "        print(\"Division successful!\")\n",
    "        return result\n",
    "    finally:\n",
    "        print(\"Cleaning up...\")\n",
    "\n",
    "# Example 1: Division by zero\n",
    "result1 = divide(10, 0)\n",
    "print(result1)  # No result is returned since an exception occurred\n",
    "\n",
    "# Example 2: Valid division\n",
    "result2 = divide(10, 2)\n",
    "print(result2)  # Result is printed since no exception occurred\n",
    "\n",
    "# Example 3: Using 'raise' to trigger an exception\n",
    "def validate_age(age):\n",
    "    try:\n",
    "        if age < 0:\n",
    "            raise ValueError(\"Age cannot be negative\")\n",
    "    except ValueError as e:\n",
    "        print(e)\n",
    "    else:\n",
    "        print(\"Age is valid\")\n",
    "\n",
    "# Testing validate_age function\n",
    "validate_age(25)  # Output: Age is valid\n",
    "validate_age(-5)  # Output: Age cannot be negative\n"
   ]
  },
  {
   "cell_type": "markdown",
   "id": "2e17a9e0-6b88-4e7c-94db-3270e316c4cb",
   "metadata": {},
   "source": [
    "try-except-else-finally:\n",
    "\n",
    "The try block encloses the code where an exception might occur, such as a division operation.\n",
    "The except block catches specific exceptions, such as ZeroDivisionError, and handles them. In this case, it prints an error message if division by zero is attempted.\n",
    "The else block is executed only if no exceptions occur. It indicates that the division was successful.\n",
    "The finally block is always executed, regardless of whether an exception occurred or not. It's typically used for cleanup operations.\n",
    "raise:\n",
    "\n",
    "In Example 3, the raise statement is used to explicitly raise an exception (in this case, a ValueError).\n",
    "If the condition age < 0 is true, a ValueError is raised with the message \"Age cannot be negative\".\n",
    "This exception is then caught by the except block and the corresponding error message is printed."
   ]
  },
  {
   "cell_type": "code",
   "execution_count": null,
   "id": "aaa84d14-18cb-45e0-bbfa-ad2e54fb6a69",
   "metadata": {},
   "outputs": [],
   "source": []
  },
  {
   "cell_type": "markdown",
   "id": "764a4dcc-91cf-4d47-92a3-f55c8ad05bd6",
   "metadata": {},
   "source": [
    "Semantic Clarity: Custom exceptions help improve the clarity and readability of your code by providing descriptive names for specific error conditions. This makes it easier for other developers (including your future self) to understand the purpose of the exception and how to handle it.\n",
    "\n",
    "Granular Error Handling: Custom exceptions allow you to handle different error scenarios in a more granular manner. Instead of relying on generic exceptions like Exception or ValueError, you can define custom exceptions tailored to the specific types of errors that can occur in your application.\n",
    "\n",
    "Modularization: Custom exceptions facilitate modularization by encapsulating error-handling logic within the modules where the exceptions are defined. This promotes better separation of concerns and makes your codebase more maintainable."
   ]
  },
  {
   "cell_type": "code",
   "execution_count": 6,
   "id": "3cba0688-edf6-474e-b6bb-533dde768aad",
   "metadata": {},
   "outputs": [
    {
     "name": "stdout",
     "output_type": "stream",
     "text": [
      "Insufficient funds: Available balance is $100, but attempted to withdraw $150.\n"
     ]
    }
   ],
   "source": [
    "class InsufficientFundsError(Exception):\n",
    "    \"\"\"Exception raised when an account has insufficient funds for a transaction.\"\"\"\n",
    "    def __init__(self, balance, amount):\n",
    "        super().__init__(f\"Insufficient funds: Available balance is ${balance}, but attempted to withdraw ${amount}.\")\n",
    "\n",
    "def withdraw(account_balance, amount_to_withdraw):\n",
    "    if amount_to_withdraw > account_balance:\n",
    "        raise InsufficientFundsError(account_balance, amount_to_withdraw)\n",
    "    else:\n",
    "        # Withdrawal logic goes here\n",
    "        print(\"Withdrawal successful!\")\n",
    "\n",
    "# Example usage\n",
    "try:\n",
    "    account_balance = 100\n",
    "    withdrawal_amount = 150\n",
    "    withdraw(account_balance, withdrawal_amount)\n",
    "except InsufficientFundsError as e:\n",
    "    print(e)\n"
   ]
  },
  {
   "cell_type": "markdown",
   "id": "dc9c1478-c642-480b-b829-01099d019957",
   "metadata": {},
   "source": [
    "We define a custom exception InsufficientFundsError, which inherits from Python's built-in Exception class.\n",
    "When a withdrawal is attempted, if the withdrawal amount exceeds the account balance, we raise the InsufficientFundsError with a message indicating the available balance and the attempted withdrawal amount.\n",
    "In the try-except block, we catch instances of InsufficientFundsError and handle them appropriately, such as displaying an error message to the user."
   ]
  },
  {
   "cell_type": "code",
   "execution_count": null,
   "id": "ab2e2718-9710-4e65-9339-a37e98761ca2",
   "metadata": {},
   "outputs": [],
   "source": []
  },
  {
   "cell_type": "code",
   "execution_count": 7,
   "id": "5ca799f6-7bd6-4fa9-9234-14f032e84271",
   "metadata": {},
   "outputs": [
    {
     "name": "stdin",
     "output_type": "stream",
     "text": [
      "Enter a number:  chinu\n"
     ]
    },
    {
     "name": "stdout",
     "output_type": "stream",
     "text": [
      "Invalid input: 'chinu'\n"
     ]
    }
   ],
   "source": [
    "class InvalidInputError(Exception):\n",
    "    \"\"\"Exception raised for invalid input.\"\"\"\n",
    "    def __init__(self, input_value):\n",
    "        self.input_value = input_value\n",
    "        super().__init__(f\"Invalid input: '{input_value}'\")\n",
    "\n",
    "def process_input(input_value):\n",
    "    if not input_value.isdigit():\n",
    "        raise InvalidInputError(input_value)\n",
    "    else:\n",
    "        print(\"Processing input:\", input_value)\n",
    "\n",
    "# Example usage\n",
    "try:\n",
    "    input_value = input(\"Enter a number: \")\n",
    "    process_input(input_value)\n",
    "except InvalidInputError as e:\n",
    "    print(e)\n"
   ]
  },
  {
   "cell_type": "code",
   "execution_count": null,
   "id": "1b2cf52b-5497-40c2-abff-666891343f41",
   "metadata": {},
   "outputs": [],
   "source": []
  }
 ],
 "metadata": {
  "kernelspec": {
   "display_name": "Python 3 (ipykernel)",
   "language": "python",
   "name": "python3"
  },
  "language_info": {
   "codemirror_mode": {
    "name": "ipython",
    "version": 3
   },
   "file_extension": ".py",
   "mimetype": "text/x-python",
   "name": "python",
   "nbconvert_exporter": "python",
   "pygments_lexer": "ipython3",
   "version": "3.10.8"
  }
 },
 "nbformat": 4,
 "nbformat_minor": 5
}
